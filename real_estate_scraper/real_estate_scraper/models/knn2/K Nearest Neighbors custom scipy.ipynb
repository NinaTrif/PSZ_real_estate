{
 "cells": [
  {
   "cell_type": "markdown",
   "id": "227afd8f",
   "metadata": {},
   "source": [
    "# K Nearest Neighbors sklearn\n",
    "\n",
    "In this jupyter notebook, as our classifier we will be using self implemented K Nearest Neighbors classifier, which we compare to previously evaluated KNeighborsClassifier model from sklearn library."
   ]
  },
  {
   "cell_type": "markdown",
   "id": "75d644b5",
   "metadata": {},
   "source": [
    "### Importing libraries\n",
    "\n",
    "First, we need to import necessary libraries. For our ML model, we will be using our own implementation of kNN classifier."
   ]
  },
  {
   "cell_type": "code",
   "execution_count": 1,
   "id": "7175160b",
   "metadata": {},
   "outputs": [],
   "source": [
    "import importlib\n",
    "import pandas as pd\n",
    "import numpy as np\n",
    "from scipy.sparse import csr_matrix\n",
    "from sklearn.compose import ColumnTransformer\n",
    "from sklearn.model_selection import train_test_split\n",
    "from sklearn.metrics import classification_report\n",
    "from sklearn.preprocessing import OneHotEncoder, StandardScaler\n",
    "import matplotlib.pyplot as plt\n",
    "import pickle"
   ]
  },
  {
   "cell_type": "code",
   "execution_count": 2,
   "id": "42986ea8",
   "metadata": {},
   "outputs": [],
   "source": [
    "knn = importlib.import_module('kNN2')"
   ]
  },
  {
   "cell_type": "markdown",
   "id": "98ec6080",
   "metadata": {},
   "source": [
    "### Data handling\n",
    "\n",
    "Next, we need to import our input data file, which has already been preprocessed beforehand."
   ]
  },
  {
   "cell_type": "code",
   "execution_count": 3,
   "id": "5121b4f1",
   "metadata": {},
   "outputs": [],
   "source": [
    "# Load the data file\n",
    "\n",
    "data = pd.read_csv('../output/data/real_estate_preprocessed.csv')\n",
    "data = data[['district', 'size', 'floor', 'registration', 'rooms', 'parking', 'balcony', 'state', 'price']]"
   ]
  },
  {
   "cell_type": "code",
   "execution_count": 4,
   "id": "81216e08",
   "metadata": {},
   "outputs": [],
   "source": [
    "# Add class labels based on prices, and drop 'prices' column afterwords\n",
    "\n",
    "classes = list()\n",
    "for i, d in data.iterrows():\n",
    "    if d['price'] <= 49999:\n",
    "        classes.append('<= 49.999')\n",
    "    elif d['price'] <= 99999:\n",
    "        classes.append('50.000 - 99.999')\n",
    "    elif d['price'] <= 149999:\n",
    "        classes.append('100.000 - 149.999')\n",
    "    elif d['price'] <= 199999:\n",
    "        classes.append('150.000 - 199.999')\n",
    "    else:\n",
    "        classes.append('>= 200.000')\n",
    "\n",
    "data.drop(labels=['price'], axis=1, inplace=True)\n",
    "data = data.assign(target=classes)"
   ]
  },
  {
   "cell_type": "code",
   "execution_count": 5,
   "id": "7c4b3b05",
   "metadata": {},
   "outputs": [
    {
     "data": {
      "text/plain": [
       "Text(0, 0.5, 'Number of apartments')"
      ]
     },
     "execution_count": 5,
     "metadata": {},
     "output_type": "execute_result"
    },
    {
     "data": {
      "image/png": "[encoded data removed]",
      "text/plain": [
       "<Figure size 648x504 with 1 Axes>"
      ]
     },
     "metadata": {
      "needs_background": "light"
     },
     "output_type": "display_data"
    }
   ],
   "source": [
    "# Visualizing class distribution\n",
    "\n",
    "plt.figure(figsize=(9,7))\n",
    "plt.bar(data['target'].value_counts().index, data['target'].value_counts().values)\n",
    "plt.title('Number of apartments per price category')\n",
    "plt.xlabel('Price category')\n",
    "plt.ylabel('Number of apartments')"
   ]
  },
  {
   "cell_type": "code",
   "execution_count": 6,
   "id": "04e04bed",
   "metadata": {},
   "outputs": [],
   "source": [
    "# Split data into feature vectors and outputs\n",
    "\n",
    "X = np.array(data.iloc[:, 0:-1])\n",
    "y = np.array(data.iloc[:, -1:])"
   ]
  },
  {
   "cell_type": "code",
   "execution_count": 7,
   "id": "2a2db8ac",
   "metadata": {},
   "outputs": [],
   "source": [
    "# Use OneHotEncoder for categorical features\n",
    "\n",
    "ct = ColumnTransformer(transformers=[('encoder', OneHotEncoder(sparse=False), [0, 7])], remainder='passthrough')\n",
    "X = np.array(ct.fit_transform(X))"
   ]
  },
  {
   "cell_type": "code",
   "execution_count": 8,
   "id": "02003ced",
   "metadata": {},
   "outputs": [],
   "source": [
    "# Split data into train and test sets\n",
    "\n",
    "X_train, X_test, y_train, y_test = train_test_split(X.tolist(), y, test_size=0.2, random_state=0)\n",
    "X_train = csr_matrix(X_train).toarray()\n",
    "X_test = csr_matrix(X_test).toarray()"
   ]
  },
  {
   "cell_type": "code",
   "execution_count": 9,
   "id": "629775d9",
   "metadata": {},
   "outputs": [],
   "source": [
    "# Use StandardScaler to scale train and test inputs\n",
    "\n",
    "ct2 = ColumnTransformer([('standard_scaler', StandardScaler(), [-3, -5, -6])], remainder='passthrough')\n",
    "X_train = ct2.fit_transform(X_train)\n",
    "X_test = ct2.transform(X_test)"
   ]
  },
  {
   "cell_type": "markdown",
   "id": "56604c92",
   "metadata": {},
   "source": [
    "### Model training and evaluation\n",
    "\n",
    "We will be using our own implemenation of K Nearest Neighbors classifier. We will be using classification_report to look at performance metrics (accuracy and f1-score)."
   ]
  },
  {
   "cell_type": "code",
   "execution_count": 10,
   "id": "1c7f7abb",
   "metadata": {},
   "outputs": [],
   "source": [
    "# Use self implemented kNN classifier to fit train set and predict test set\n",
    "\n",
    "classifier = knn.kNN()\n",
    "classifier.fit(X_train, y_train.ravel())\n",
    "y_pred = classifier.predict(X_test)"
   ]
  },
  {
   "cell_type": "code",
   "execution_count": 11,
   "id": "0da37973",
   "metadata": {},
   "outputs": [
    {
     "name": "stdout",
     "output_type": "stream",
     "text": [
      "                   precision    recall  f1-score   support\n",
      "\n",
      "100.000 - 149.999       0.51      0.59      0.55       324\n",
      "150.000 - 199.999       0.45      0.32      0.37       206\n",
      "  50.000 - 99.999       0.57      0.63      0.60       306\n",
      "        <= 49.999       1.00      0.06      0.12        63\n",
      "       >= 200.000       0.69      0.79      0.74       261\n",
      "\n",
      "         accuracy                           0.57      1160\n",
      "        macro avg       0.64      0.48      0.47      1160\n",
      "     weighted avg       0.58      0.57      0.55      1160\n",
      "\n"
     ]
    }
   ],
   "source": [
    "print(classification_report(y_test, y_pred))"
   ]
  },
  {
   "cell_type": "markdown",
   "id": "01d62bee",
   "metadata": {},
   "source": [
    "### Saving model, One Hot Encoder and Scaler\n",
    "\n",
    "We use pickle to save our model, encoder and scaler, which we will need in our application for further predictions."
   ]
  },
  {
   "cell_type": "code",
   "execution_count": 12,
   "id": "5c513c93",
   "metadata": {},
   "outputs": [],
   "source": [
    "with open('../output/knn2/knn.pickle', 'wb') as out:\n",
    "    pickle.dump(classifier, out)\n",
    "\n",
    "with open('../output/knn2/ohe.pickle', 'wb') as out:\n",
    "    pickle.dump(ct, out)\n",
    "\n",
    "with open('../output/knn2/scaler.pickle', 'wb') as out:\n",
    "    pickle.dump(ct2, out)"
   ]
  }
 ],
 "metadata": {
  "kernelspec": {
   "display_name": "Python 3",
   "language": "python",
   "name": "python3"
  },
  "language_info": {
   "codemirror_mode": {
    "name": "ipython",
    "version": 3
   },
   "file_extension": ".py",
   "mimetype": "text/x-python",
   "name": "python",
   "nbconvert_exporter": "python",
   "pygments_lexer": "ipython3",
   "version": "3.8.5"
  }
 },
 "nbformat": 4,
 "nbformat_minor": 5
}
