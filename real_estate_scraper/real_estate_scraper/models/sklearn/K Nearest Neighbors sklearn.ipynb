{
 "cells": [
  {
   "cell_type": "markdown",
   "id": "73c08331",
   "metadata": {},
   "source": [
    "# K Nearest Neighbors sklearn\n",
    "\n",
    "In this jupyter notebook, as our classifier we will be using sklearn KNeighborsClassifier, which we will use as a benchmark for our own kNN model."
   ]
  },
  {
   "cell_type": "markdown",
   "id": "576defb2",
   "metadata": {},
   "source": [
    "### Importing libraries\n",
    "\n",
    "First, we need to import necessary libraries. For our ML model, we will be using KNeighborsClassifier from sklearn."
   ]
  },
  {
   "cell_type": "code",
   "execution_count": 1,
   "id": "c5672e2d",
   "metadata": {},
   "outputs": [],
   "source": [
    "import pandas as pd\n",
    "from sklearn.compose import ColumnTransformer\n",
    "from sklearn.neighbors import KNeighborsClassifier\n",
    "import numpy as np\n",
    "from sklearn.model_selection import train_test_split\n",
    "from math import sqrt\n",
    "from sklearn.metrics import classification_report\n",
    "from sklearn.preprocessing import OneHotEncoder, StandardScaler"
   ]
  },
  {
   "cell_type": "markdown",
   "id": "43e3a6aa",
   "metadata": {},
   "source": [
    "### Data handling\n",
    "\n",
    "Next, we need to import our input data file, which has already been preprocessed beforehand."
   ]
  },
  {
   "cell_type": "code",
   "execution_count": 2,
   "id": "78303dee",
   "metadata": {},
   "outputs": [],
   "source": [
    "# Load the data file\n",
    "\n",
    "data = pd.read_csv('../output/data/real_estate_preprocessed.csv')\n",
    "data = data[['district', 'size', 'floor', 'registration', 'rooms', 'parking', 'balcony', 'state', 'price']]"
   ]
  },
  {
   "cell_type": "code",
   "execution_count": 3,
   "id": "9292b437",
   "metadata": {},
   "outputs": [],
   "source": [
    "# Add class labels based on prices, and drop 'prices' column afterwords\n",
    "\n",
    "classes = list()\n",
    "for i, d in data.iterrows():\n",
    "    if d['price'] <= 49999:\n",
    "        classes.append('<= 49.999')\n",
    "    elif d['price'] <= 99999:\n",
    "        classes.append('50.000 - 99.999')\n",
    "    elif d['price'] <= 149999:\n",
    "        classes.append('100.000 - 149.999')\n",
    "    elif d['price'] <= 199999:\n",
    "        classes.append('150.000 - 199.999')\n",
    "    else:\n",
    "        classes.append('>= 200.000')\n",
    "\n",
    "data.drop(labels=['price'], axis=1, inplace=True)\n",
    "data = data.assign(target=classes)"
   ]
  },
  {
   "cell_type": "code",
   "execution_count": 4,
   "id": "021ba8fc",
   "metadata": {},
   "outputs": [],
   "source": [
    "# Split data into feature vectors and outputs\n",
    "\n",
    "X = np.array(data.iloc[:, 0:-1])\n",
    "y = np.array(data.iloc[:, -1:])"
   ]
  },
  {
   "cell_type": "code",
   "execution_count": 5,
   "id": "a076ea20",
   "metadata": {},
   "outputs": [],
   "source": [
    "# Use OneHotEncoder for categorical features\n",
    "\n",
    "ct = ColumnTransformer(transformers=[('encoder', OneHotEncoder(sparse=False), [0, 7])], remainder='passthrough')\n",
    "X = np.array(ct.fit_transform(X))"
   ]
  },
  {
   "cell_type": "code",
   "execution_count": 6,
   "id": "e22e3465",
   "metadata": {},
   "outputs": [],
   "source": [
    "# Split data into train and test sets\n",
    "\n",
    "X_train, X_test, y_train, y_test = train_test_split(X, y, test_size=0.2, random_state=0)"
   ]
  },
  {
   "cell_type": "code",
   "execution_count": 7,
   "id": "defb9733",
   "metadata": {},
   "outputs": [],
   "source": [
    "# Use StandardScaler to scale train and test inputs\n",
    "\n",
    "ct2 = ColumnTransformer([('standard_scaler', StandardScaler(), [-3, -5, -6])], remainder='passthrough')\n",
    "X_train = ct2.fit_transform(X_train)\n",
    "X_test = ct2.transform(X_test)"
   ]
  },
  {
   "cell_type": "code",
   "execution_count": 8,
   "id": "15c16d49",
   "metadata": {},
   "outputs": [],
   "source": [
    "# Calculate number of neighbors as square root of number of examples in our train set\n",
    "\n",
    "n_neigh = len(X_train)\n",
    "n_neigh = int(np.ceil(sqrt(n_neigh)) // 2 * 2 + 1)"
   ]
  },
  {
   "cell_type": "markdown",
   "id": "bcfd01ed",
   "metadata": {},
   "source": [
    "### Model training and evaluation\n",
    "\n",
    "We will be using KNeighborsClassifier from sklearn.neighbors as our base model. We will be using classification_report to look at performance metrics (accuracy and f1-score)."
   ]
  },
  {
   "cell_type": "code",
   "execution_count": 9,
   "id": "68f1df8e",
   "metadata": {},
   "outputs": [],
   "source": [
    "# Use sklearn KNeighborsClassifier classifier to fit train set and predict test set\n",
    "\n",
    "classifier = KNeighborsClassifier(n_neighbors=n_neigh)\n",
    "classifier.fit(X_train, y_train.ravel())\n",
    "y_pred = classifier.predict(X_test)"
   ]
  },
  {
   "cell_type": "code",
   "execution_count": 10,
   "id": "a3cdda6c",
   "metadata": {},
   "outputs": [
    {
     "name": "stdout",
     "output_type": "stream",
     "text": [
      "                   precision    recall  f1-score   support\n",
      "\n",
      "100.000 - 149.999       0.51      0.59      0.55       324\n",
      "150.000 - 199.999       0.43      0.31      0.36       206\n",
      "  50.000 - 99.999       0.57      0.63      0.60       306\n",
      "        <= 49.999       1.00      0.06      0.12        63\n",
      "       >= 200.000       0.70      0.79      0.74       261\n",
      "\n",
      "         accuracy                           0.57      1160\n",
      "        macro avg       0.64      0.48      0.47      1160\n",
      "     weighted avg       0.58      0.57      0.55      1160\n",
      "\n"
     ]
    }
   ],
   "source": [
    "print(classification_report(y_test, y_pred))"
   ]
  },
  {
   "cell_type": "code",
   "execution_count": null,
   "id": "7ccb88fb",
   "metadata": {},
   "outputs": [],
   "source": []
  }
 ],
 "metadata": {
  "kernelspec": {
   "display_name": "Python 3",
   "language": "python",
   "name": "python3"
  },
  "language_info": {
   "codemirror_mode": {
    "name": "ipython",
    "version": 3
   },
   "file_extension": ".py",
   "mimetype": "text/x-python",
   "name": "python",
   "nbconvert_exporter": "python",
   "pygments_lexer": "ipython3",
   "version": "3.8.5"
  }
 },
 "nbformat": 4,
 "nbformat_minor": 5
}
