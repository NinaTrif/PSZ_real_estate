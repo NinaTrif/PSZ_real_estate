{
 "cells": [
  {
   "cell_type": "markdown",
   "id": "10e63134",
   "metadata": {},
   "source": [
    "# Linear Regression sklearn\n",
    "\n",
    "In this jupyter notebook, we will be training linear regressor using sklearn library, which we will use as a benchmark for our own linear regression model."
   ]
  },
  {
   "cell_type": "markdown",
   "id": "dd37b6ba",
   "metadata": {},
   "source": [
    "### Importing libraries\n",
    "\n",
    "First, we need to import necessary libraries. For our ML model, we will be using LinearRegression from sklearn."
   ]
  },
  {
   "cell_type": "code",
   "execution_count": 1,
   "id": "b7ec6943",
   "metadata": {},
   "outputs": [],
   "source": [
    "import pandas as pd\n",
    "from sklearn.linear_model import LinearRegression\n",
    "from sklearn.metrics import mean_squared_error, r2_score\n",
    "from sklearn.model_selection import train_test_split\n",
    "import numpy as np\n",
    "from sklearn.compose import ColumnTransformer\n",
    "from sklearn.preprocessing import OneHotEncoder"
   ]
  },
  {
   "cell_type": "markdown",
   "id": "fdd35d0b",
   "metadata": {},
   "source": [
    "### Data handling\n",
    "\n",
    "Next, we need to import our input data file, which has already been preprocessed beforehand."
   ]
  },
  {
   "cell_type": "code",
   "execution_count": 2,
   "id": "d5d2cb5d",
   "metadata": {},
   "outputs": [],
   "source": [
    "# Load the data file\n",
    "\n",
    "data = pd.read_csv('../output/data/real_estate_preprocessed.csv')\n",
    "data = data[['district', 'size', 'floor', 'registration', 'rooms', 'parking', 'balcony', 'state', 'price']]"
   ]
  },
  {
   "cell_type": "code",
   "execution_count": 3,
   "id": "765dda2a",
   "metadata": {},
   "outputs": [],
   "source": [
    "# Split data into feature vectors and outputs\n",
    "\n",
    "X = np.array(data.iloc[:, 0:-1])\n",
    "y = np.array(data.iloc[:, -1:])"
   ]
  },
  {
   "cell_type": "code",
   "execution_count": 4,
   "id": "90bd4ba2",
   "metadata": {},
   "outputs": [],
   "source": [
    "# Use OneHotEncoder for categorical features\n",
    "\n",
    "ct = ColumnTransformer(transformers=[('encoder', OneHotEncoder(), [0, 7])], remainder='passthrough')\n",
    "X = np.array(ct.fit_transform(X))"
   ]
  },
  {
   "cell_type": "code",
   "execution_count": 5,
   "id": "9fb6a7bd",
   "metadata": {},
   "outputs": [],
   "source": [
    "# Split data into train and test sets\n",
    "\n",
    "X_train, X_test, y_train, y_test = train_test_split(X.tolist(), y, test_size=0.2, random_state=0)"
   ]
  },
  {
   "cell_type": "markdown",
   "id": "3c2bd49d",
   "metadata": {},
   "source": [
    "### Model training and evaluation\n",
    "\n",
    "We will be using LinearRegression from sklearn.linear_model as our base model. As our evaluation metric, we will be looking at both the RMSE (Root Mean Squared Error) and R2 (R squared) score."
   ]
  },
  {
   "cell_type": "code",
   "execution_count": 6,
   "id": "7e191fb1",
   "metadata": {},
   "outputs": [],
   "source": [
    "# Use sklearn LinearRegression regressor to fit train set and predict test set\n",
    "\n",
    "regressor = LinearRegression()\n",
    "regressor.fit(X_train, y_train)\n",
    "y_pred = regressor.predict(X_test)"
   ]
  },
  {
   "cell_type": "code",
   "execution_count": 7,
   "id": "8a64da95",
   "metadata": {},
   "outputs": [
    {
     "data": {
      "text/plain": [
       "52173.01733639259"
      ]
     },
     "execution_count": 7,
     "metadata": {},
     "output_type": "execute_result"
    }
   ],
   "source": [
    "# Print RMSE\n",
    "\n",
    "mean_squared_error(y_test, y_pred, squared=False)"
   ]
  },
  {
   "cell_type": "code",
   "execution_count": 8,
   "id": "d650114a",
   "metadata": {},
   "outputs": [
    {
     "data": {
      "text/plain": [
       "0.7328485950994026"
      ]
     },
     "execution_count": 8,
     "metadata": {},
     "output_type": "execute_result"
    }
   ],
   "source": [
    "# Print R squared\n",
    "\n",
    "r2_score(y_test, y_pred)"
   ]
  }
 ],
 "metadata": {
  "kernelspec": {
   "display_name": "Python 3",
   "language": "python",
   "name": "python3"
  },
  "language_info": {
   "codemirror_mode": {
    "name": "ipython",
    "version": 3
   },
   "file_extension": ".py",
   "mimetype": "text/x-python",
   "name": "python",
   "nbconvert_exporter": "python",
   "pygments_lexer": "ipython3",
   "version": "3.8.5"
  }
 },
 "nbformat": 4,
 "nbformat_minor": 5
}
